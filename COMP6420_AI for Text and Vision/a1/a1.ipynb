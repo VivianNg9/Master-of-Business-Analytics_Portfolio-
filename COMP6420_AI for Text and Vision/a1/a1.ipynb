{
 "cells": [
  {
   "cell_type": "markdown",
   "metadata": {},
   "source": [
    "## Import necessary libraries "
   ]
  },
  {
   "cell_type": "code",
   "execution_count": 7,
   "metadata": {},
   "outputs": [],
   "source": [
    "import numpy as np\n",
    "from keras import layers, models\n",
    "import matplotlib.pyplot as plt"
   ]
  },
  {
   "cell_type": "markdown",
   "metadata": {},
   "source": [
    "## 1. Image Statistics"
   ]
  },
  {
   "cell_type": "markdown",
   "metadata": {},
   "source": [
    "This function calculates the resolution of an image and counts the number of dark pixels across the three color channels (Red, Green, Blue) based on a given darkness threshold."
   ]
  },
  {
   "cell_type": "code",
   "execution_count": 8,
   "metadata": {},
   "outputs": [],
   "source": [
    "def image_statistics(image, darkness):\n",
    "     # Get image resolution (width, height)\n",
    "     resolution = image.shape[:2] \n",
    "     # Count dark pixes in 3 channels based on the darkness threshold\n",
    "     dark_pixels = tuple(np.sum(image[:, :, i] < darkness)for i in range (3))\n",
    "     return {'resolution': resolution, 'dark_pixels': dark_pixels}\n"
   ]
  },
  {
   "cell_type": "code",
   "execution_count": 10,
   "metadata": {},
   "outputs": [
    {
     "name": "stdout",
     "output_type": "stream",
     "text": [
      "Image Statistics: {'resolution': (2, 3), 'dark_pixels': (3, 3, 2)}\n"
     ]
    }
   ],
   "source": [
    "# Define a small 2x3 image with 3 color channels (Red, Green, Blue)\n",
    "image = np.array([[[250, 2, 2], [0, 255, 2], [0, 0, 255]], \n",
    "                  [[2, 2, 20], [250, 255, 255], [127, 127, 127]]])\n",
    "# Define darkness threshold\n",
    "darkness_threshold = 10\n",
    "\n",
    "# Call the image_statistics function to get the statistics of the image\n",
    "stats = image_statistics(image, darkness_threshold)\n",
    "\n",
    "# Print the results\n",
    "# 'resolution' will show the dimensions of the image (height, width)\n",
    "# 'dark_pixels' will show how many pixels in each channel are below the darkness threshold\n",
    "print(\"Image Statistics:\", stats)"
   ]
  },
  {
   "cell_type": "markdown",
   "metadata": {},
   "source": [
    "- 'resolution': The image has 2 rows and 3 columns, so the resolution is (2, 3).\n",
    "- 'dark_pixels': \n",
    "    - Red channel: 3 pixels have values < 10 (0, 0, 2).\n",
    "    - Green channel: 3 pixels have values < 10 (2, 2, 0).\n",
    "    - Blue channel: 2 pixels have values < 10 (2, 2).\n",
    "\n"
   ]
  },
  {
   "cell_type": "markdown",
   "metadata": {},
   "source": [
    "# 2. Bounding Box"
   ]
  },
  {
   "cell_type": "markdown",
   "metadata": {},
   "source": [
    "This function extracts a sub-section of an image defined by a bounding box,"
   ]
  },
  {
   "cell_type": "code",
   "execution_count": 11,
   "metadata": {},
   "outputs": [],
   "source": [
    "def bounding_box(image, top_left, bottom_right):\n",
    "    # Extract the rows and columns from the top_left and bottom_right tuples\n",
    "    top_left_row, top_left_column = top_left\n",
    "    bottom_right_row, bottom_right_column = bottom_right\n",
    "    \n",
    "    # Return a sub-section of the image determined by the bounding box\n",
    "    # The slice image[top_left_row:bottom_right_row + 1, top_left_column:bottom_right_column + 1]\n",
    "    # extracts the pixels from top_left to bottom_right, inclusive of the bottom_right coordinates\n",
    "    return image[top_left_row:bottom_right_row + 1, top_left_column:bottom_right_column + 1]"
   ]
  },
  {
   "cell_type": "code",
   "execution_count": 16,
   "metadata": {},
   "outputs": [
    {
     "name": "stdout",
     "output_type": "stream",
     "text": [
      "Bounding Box Extracted:\n",
      " [[[250   2   2]\n",
      "  [  0 255   2]]\n",
      "\n",
      " [[  2   2  20]\n",
      "  [250 255 255]]]\n"
     ]
    }
   ],
   "source": [
    "# Define a small 2x3 image with 3 color channels (Red, Green, Blue)\n",
    "image1 = np.array([[[250, 2, 2], [0, 255, 2], [0, 0, 255]], \n",
    "                  [[2, 2, 20], [250, 255, 255], [127, 127, 127]]])\n",
    "# Define the top-left and bottom-right coordinates of the bounding box\n",
    "top_left = (0, 0)\n",
    "bottom_right = (1, 1)\n",
    "\n",
    "# Extract the bounding box from the image\n",
    "bbox = bounding_box(image1, top_left, bottom_right)\n",
    "\n",
    "# Print the extracted bounding box\n",
    "# The output will be a smaller image array corresponding to the specified bounding box\n",
    "print(\"Bounding Box Extracted:\\n\", bbox)"
   ]
  },
  {
   "cell_type": "markdown",
   "metadata": {},
   "source": [
    "- The extracted bounding box includes the pixels from row 0 to 1 and column 0 to 1\n",
    "- This corresponds to the top-left 2x2 portion of the original image."
   ]
  },
  {
   "cell_type": "code",
   "execution_count": 17,
   "metadata": {},
   "outputs": [
    {
     "data": {
      "image/png": "[encoded data removed]",
      "text/plain": [
       "<Figure size 800x400 with 2 Axes>"
      ]
     },
     "metadata": {},
     "output_type": "display_data"
    }
   ],
   "source": [
    "# Visualize the original image and the extracted bounding box\n",
    "plt.figure(figsize=(8, 4))\n",
    "\n",
    "# Plot the original image\n",
    "plt.subplot(1, 2, 1)\n",
    "plt.imshow(image)\n",
    "plt.title(\"Original Image\")\n",
    "\n",
    "# Plot the extracted bounding box\n",
    "plt.subplot(1, 2, 2)\n",
    "plt.imshow(bbox)\n",
    "plt.title(\"Bounding Box Extracted\")\n",
    "\n",
    "# Display the plots\n",
    "plt.show()"
   ]
  },
  {
   "cell_type": "markdown",
   "metadata": {},
   "source": [
    "**Bounding Box Functionality**: \n",
    "- The function bounding_box() successfully extracted the specified region from the original image. The extracted bounding box corresponds to the top-left 2x2 portion of the image, accurately capturing the desired section.\n",
    "\n",
    "**Visualization**:\n",
    "- Original Image: The visualization of the original image helps in understanding the spatial arrangement and color distribution across the entire image.\n",
    "- Bounding Box: The extracted bounding box plot confirms that only the desired section of the image is included, highlighting the effectiveness of the bounding box operation.\n",
    "  \n",
    "**Practical Applications**:\n",
    "- This functionality is particularly useful in image processing tasks where specific regions of interest need to be isolated, such as object detection, cropping, or focusing on certain details within an image."
   ]
  },
  {
   "cell_type": "markdown",
   "metadata": {},
   "source": [
    "# 3. Build Deep Neural Network"
   ]
  },
  {
   "cell_type": "markdown",
   "metadata": {},
   "source": [
    "This function builds a deep neural network with a specified number of hidden layers,each with a given size and optional dropout, culminating in an output layer with a specific activation function."
   ]
  },
  {
   "cell_type": "code",
   "execution_count": 18,
   "metadata": {},
   "outputs": [],
   "source": [
    "def build_deep_nn(rows, columns, channels, num_hidden, hidden_sizes, dropout_rates,\n",
    "                  output_size, output_activation):\n",
    "    # Initialize a sequential model\n",
    "    model = models.Sequential()  \n",
    "    \n",
    "    # Flatten the input image to a single vector\n",
    "    # This is necessary because fully connected layers expect a 1D input, not a 2D image\n",
    "    model.add(layers.Flatten(input_shape=(rows, columns, channels)))\n",
    "    \n",
    "    # Add the specified number of hidden layers with ReLU activation and optional dropout\n",
    "    for i in range(num_hidden):\n",
    "        # Add a Dense layer with the specified size\n",
    "        model.add(layers.Dense(hidden_sizes[i], activation='relu'))\n",
    "        \n",
    "        # If the dropout rate for this layer is greater than 0, add a Dropout layer\n",
    "        if dropout_rates[i] > 0:\n",
    "            model.add(layers.Dropout(dropout_rates[i]))\n",
    "    \n",
    "    # Add the final Dense layer with the specified output size and activation function\n",
    "    model.add(layers.Dense(output_size, activation=output_activation))\n",
    "    \n",
    "    # Return the constructed model\n",
    "    return model"
   ]
  },
  {
   "cell_type": "code",
   "execution_count": 19,
   "metadata": {},
   "outputs": [
    {
     "name": "stderr",
     "output_type": "stream",
     "text": [
      "/Users/viviannguyen/anaconda3/envs/python310/lib/python3.10/site-packages/keras/src/layers/reshaping/flatten.py:37: UserWarning: Do not pass an `input_shape`/`input_dim` argument to a layer. When using Sequential models, prefer using an `Input(shape)` object as the first layer in the model instead.\n",
      "  super().__init__(**kwargs)\n"
     ]
    },
    {
     "data": {
      "text/html": [
       "<pre style=\"white-space:pre;overflow-x:auto;line-height:normal;font-family:Menlo,'DejaVu Sans Mono',consolas,'Courier New',monospace\"><span style=\"font-weight: bold\">Model: \"sequential\"</span>\n",
       "</pre>\n"
      ],
      "text/plain": [
       "\u001b[1mModel: \"sequential\"\u001b[0m\n"
      ]
     },
     "metadata": {},
     "output_type": "display_data"
    },
    {
     "data": {
      "text/html": [
       "<pre style=\"white-space:pre;overflow-x:auto;line-height:normal;font-family:Menlo,'DejaVu Sans Mono',consolas,'Courier New',monospace\">┏━━━━━━━━━━━━━━━━━━━━━━━━━━━━━━━━━┳━━━━━━━━━━━━━━━━━━━━━━━━┳━━━━━━━━━━━━━━━┓\n",
       "┃<span style=\"font-weight: bold\"> Layer (type)                    </span>┃<span style=\"font-weight: bold\"> Output Shape           </span>┃<span style=\"font-weight: bold\">       Param # </span>┃\n",
       "┡━━━━━━━━━━━━━━━━━━━━━━━━━━━━━━━━━╇━━━━━━━━━━━━━━━━━━━━━━━━╇━━━━━━━━━━━━━━━┩\n",
       "│ flatten (<span style=\"color: #0087ff; text-decoration-color: #0087ff\">Flatten</span>)               │ (<span style=\"color: #00d7ff; text-decoration-color: #00d7ff\">None</span>, <span style=\"color: #00af00; text-decoration-color: #00af00\">4590</span>)           │             <span style=\"color: #00af00; text-decoration-color: #00af00\">0</span> │\n",
       "├─────────────────────────────────┼────────────────────────┼───────────────┤\n",
       "│ dense (<span style=\"color: #0087ff; text-decoration-color: #0087ff\">Dense</span>)                   │ (<span style=\"color: #00d7ff; text-decoration-color: #00d7ff\">None</span>, <span style=\"color: #00af00; text-decoration-color: #00af00\">40</span>)             │       <span style=\"color: #00af00; text-decoration-color: #00af00\">183,640</span> │\n",
       "├─────────────────────────────────┼────────────────────────┼───────────────┤\n",
       "│ dense_1 (<span style=\"color: #0087ff; text-decoration-color: #0087ff\">Dense</span>)                 │ (<span style=\"color: #00d7ff; text-decoration-color: #00d7ff\">None</span>, <span style=\"color: #00af00; text-decoration-color: #00af00\">20</span>)             │           <span style=\"color: #00af00; text-decoration-color: #00af00\">820</span> │\n",
       "├─────────────────────────────────┼────────────────────────┼───────────────┤\n",
       "│ dropout (<span style=\"color: #0087ff; text-decoration-color: #0087ff\">Dropout</span>)               │ (<span style=\"color: #00d7ff; text-decoration-color: #00d7ff\">None</span>, <span style=\"color: #00af00; text-decoration-color: #00af00\">20</span>)             │             <span style=\"color: #00af00; text-decoration-color: #00af00\">0</span> │\n",
       "├─────────────────────────────────┼────────────────────────┼───────────────┤\n",
       "│ dense_2 (<span style=\"color: #0087ff; text-decoration-color: #0087ff\">Dense</span>)                 │ (<span style=\"color: #00d7ff; text-decoration-color: #00d7ff\">None</span>, <span style=\"color: #00af00; text-decoration-color: #00af00\">3</span>)              │            <span style=\"color: #00af00; text-decoration-color: #00af00\">63</span> │\n",
       "└─────────────────────────────────┴────────────────────────┴───────────────┘\n",
       "</pre>\n"
      ],
      "text/plain": [
       "┏━━━━━━━━━━━━━━━━━━━━━━━━━━━━━━━━━┳━━━━━━━━━━━━━━━━━━━━━━━━┳━━━━━━━━━━━━━━━┓\n",
       "┃\u001b[1m \u001b[0m\u001b[1mLayer (type)                   \u001b[0m\u001b[1m \u001b[0m┃\u001b[1m \u001b[0m\u001b[1mOutput Shape          \u001b[0m\u001b[1m \u001b[0m┃\u001b[1m \u001b[0m\u001b[1m      Param #\u001b[0m\u001b[1m \u001b[0m┃\n",
       "┡━━━━━━━━━━━━━━━━━━━━━━━━━━━━━━━━━╇━━━━━━━━━━━━━━━━━━━━━━━━╇━━━━━━━━━━━━━━━┩\n",
       "│ flatten (\u001b[38;5;33mFlatten\u001b[0m)               │ (\u001b[38;5;45mNone\u001b[0m, \u001b[38;5;34m4590\u001b[0m)           │             \u001b[38;5;34m0\u001b[0m │\n",
       "├─────────────────────────────────┼────────────────────────┼───────────────┤\n",
       "│ dense (\u001b[38;5;33mDense\u001b[0m)                   │ (\u001b[38;5;45mNone\u001b[0m, \u001b[38;5;34m40\u001b[0m)             │       \u001b[38;5;34m183,640\u001b[0m │\n",
       "├─────────────────────────────────┼────────────────────────┼───────────────┤\n",
       "│ dense_1 (\u001b[38;5;33mDense\u001b[0m)                 │ (\u001b[38;5;45mNone\u001b[0m, \u001b[38;5;34m20\u001b[0m)             │           \u001b[38;5;34m820\u001b[0m │\n",
       "├─────────────────────────────────┼────────────────────────┼───────────────┤\n",
       "│ dropout (\u001b[38;5;33mDropout\u001b[0m)               │ (\u001b[38;5;45mNone\u001b[0m, \u001b[38;5;34m20\u001b[0m)             │             \u001b[38;5;34m0\u001b[0m │\n",
       "├─────────────────────────────────┼────────────────────────┼───────────────┤\n",
       "│ dense_2 (\u001b[38;5;33mDense\u001b[0m)                 │ (\u001b[38;5;45mNone\u001b[0m, \u001b[38;5;34m3\u001b[0m)              │            \u001b[38;5;34m63\u001b[0m │\n",
       "└─────────────────────────────────┴────────────────────────┴───────────────┘\n"
      ]
     },
     "metadata": {},
     "output_type": "display_data"
    },
    {
     "data": {
      "text/html": [
       "<pre style=\"white-space:pre;overflow-x:auto;line-height:normal;font-family:Menlo,'DejaVu Sans Mono',consolas,'Courier New',monospace\"><span style=\"font-weight: bold\"> Total params: </span><span style=\"color: #00af00; text-decoration-color: #00af00\">184,523</span> (720.79 KB)\n",
       "</pre>\n"
      ],
      "text/plain": [
       "\u001b[1m Total params: \u001b[0m\u001b[38;5;34m184,523\u001b[0m (720.79 KB)\n"
      ]
     },
     "metadata": {},
     "output_type": "display_data"
    },
    {
     "data": {
      "text/html": [
       "<pre style=\"white-space:pre;overflow-x:auto;line-height:normal;font-family:Menlo,'DejaVu Sans Mono',consolas,'Courier New',monospace\"><span style=\"font-weight: bold\"> Trainable params: </span><span style=\"color: #00af00; text-decoration-color: #00af00\">184,523</span> (720.79 KB)\n",
       "</pre>\n"
      ],
      "text/plain": [
       "\u001b[1m Trainable params: \u001b[0m\u001b[38;5;34m184,523\u001b[0m (720.79 KB)\n"
      ]
     },
     "metadata": {},
     "output_type": "display_data"
    },
    {
     "data": {
      "text/html": [
       "<pre style=\"white-space:pre;overflow-x:auto;line-height:normal;font-family:Menlo,'DejaVu Sans Mono',consolas,'Courier New',monospace\"><span style=\"font-weight: bold\"> Non-trainable params: </span><span style=\"color: #00af00; text-decoration-color: #00af00\">0</span> (0.00 B)\n",
       "</pre>\n"
      ],
      "text/plain": [
       "\u001b[1m Non-trainable params: \u001b[0m\u001b[38;5;34m0\u001b[0m (0.00 B)\n"
      ]
     },
     "metadata": {},
     "output_type": "display_data"
    }
   ],
   "source": [
    "# Defining the parameters for the neural network\n",
    "rows, columns, channels = 45, 34, 3   # Input image dimensions (height, width, channels)\n",
    "num_hidden = 2                        # Number of hidden layers\n",
    "hidden_sizes = [40, 20]               # Sizes of each hidden layer\n",
    "dropout_rates = [0, 0.5]              # Dropout rates for each hidden layer (0 means no dropout)\n",
    "output_size = 3                       # Size of the output layer (e.g., 3 classes for classification)\n",
    "output_activation = 'sigmoid'         # Activation function for the output layer\n",
    "\n",
    "# Build the model using the specified parameters\n",
    "model = build_deep_nn(rows, columns, channels, num_hidden, hidden_sizes, dropout_rates, output_size, output_activation)\n",
    "\n",
    "# Display the summary of the model to show its structure\n",
    "# The summary will include the number of layers, the output shape of each layer, and the number of parameters\n",
    "model.summary()"
   ]
  },
  {
   "cell_type": "markdown",
   "metadata": {},
   "source": [
    "*Layers of the Model*:\n",
    "\n",
    "1. **Flatten Layer (`flatten`)**:\n",
    "   - **Type**: `Flatten`\n",
    "   - **Output Shape**: `(None, 4590)`\n",
    "   - **Parameters**: `0`\n",
    "   - **Explanation**: \n",
    "     - This layer takes the input image of shape `(45, 34, 3)` (45 rows, 34 columns, 3 channels) and flattens it into a 1D vector. The output shape `(4590)` is calculated by multiplying the dimensions: \\(45 x 34 x 3 = 4590\\).\n",
    "     - No parameters are learned in this layer since it's just a reshaping operation.\n",
    "\n",
    "2. **First Dense Layer (`dense`)**:\n",
    "   - **Type**: `Dense`\n",
    "   - **Output Shape**: `(None, 40)`\n",
    "   - **Parameters**: `183,640`\n",
    "   - **Explanation**: \n",
    "     - This is a fully connected (dense) layer with 40 neurons.\n",
    "     - The number of parameters is calculated as: \\( *input size* x *output size* + *biases* = 4590 x 40 + 40 = 183,640 \\).\n",
    "     - This layer is responsible for learning features by applying a weighted sum and an activation function (ReLU in this case).\n",
    "\n",
    "1. **Second Dense Layer (`dense_1`)**:\n",
    "   - **Type**: `Dense`\n",
    "   - **Output Shape**: `(None, 20)`\n",
    "   - **Parameters**: `820`\n",
    "   - **Explanation**:\n",
    "     - This layer has 20 neurons and connects to the previous dense layer.\n",
    "     - The number of parameters is calculated as: \\( *input size* x *output size* + *biases* = 40 x 20 + 20 = 820 \\).\n",
    "     - Like the first dense layer, this layer also applies a weighted sum and ReLU activation, helping to refine the learned features.\n",
    "\n",
    "2. **Dropout Layer (`dropout`)**:\n",
    "   - **Type**: `Dropout`\n",
    "   - **Output Shape**: `(None, 20)`\n",
    "   - **Parameters**: `0`\n",
    "   - **Explanation**:\n",
    "     - The dropout layer randomly sets a fraction of input units to 0 during training, helping to prevent overfitting.\n",
    "     - The dropout rate was set to 0.5 (50%) in the provided model. However, dropout layers do not have any learnable parameters, which is why the parameter count is `0`.\n",
    "     - The output shape remains the same as the input shape.\n",
    "\n",
    "3. **Final Dense Layer (`dense_2`)**:\n",
    "   - **Type**: `Dense`\n",
    "   - **Output Shape**: `(None, 3)`\n",
    "   - **Parameters**: `63`\n",
    "   - **Explanation**:\n",
    "     - This is the output layer of the network, which has 3 neurons, corresponding to a classification problem with 3 classes.\n",
    "     - The number of parameters is calculated as: \\( *input size* x *output size* + *biases* = 20 x 3 + 3 = 63 \\).\n",
    "     - The activation function used here is `sigmoid`, which is common for binary or multi-class classification tasks where the output is interpreted as probabilities.\n",
    "\n",
    "#### Summary of the Model:\n",
    "\n",
    "- **Total Parameters**: `184,523`\n",
    "  - This represents the total number of parameters (weights and biases) that the model will learn during training.\n",
    "  - The large number of parameters indicates that the model has significant capacity to learn complex patterns from the data.\n",
    "  \n",
    "- **Trainable Parameters**: `184,523`\n",
    "  - All parameters in this model are trainable, meaning they will be updated during the training process to minimize the loss function.\n",
    "\n",
    "- **Non-trainable Parameters**: `0`\n",
    "  - There are no non-trainable parameters in this model, which could include things like frozen layers in transfer learning scenarios.\n",
    "\n",
    "#### Explanation and Commentary:\n",
    "\n",
    "- **Model Architecture**: \n",
    "  - The model begins with a `Flatten` layer that prepares the image data for the fully connected layers.\n",
    "  - Two fully connected layers (`Dense`) are included, with the first having a larger number of neurons (40) to capture a broad range of features, and the second refining those features with fewer neurons (20).\n",
    "  - A `Dropout` layer is included between the two dense layers to prevent overfitting by randomly setting 50% of the inputs to 0 during training.\n",
    "  - The final layer produces 3 outputs, which would be used in a classification task, where each output corresponds to the probability of a particular class.\n",
    "\n",
    "- **Training Considerations**: \n",
    "  - The model's significant number of parameters, especially in the first dense layer, indicates it has a high capacity for learning, but it also means that overfitting is a risk, which is why dropout is used.\n",
    "  - Proper regularization and sufficient training data are essential to ensure the model generalizes well.\n",
    "\n",
    "- **Application**: \n",
    "  - This model architecture is suitable for tasks like image classification where the input is an image and the output is a classification into one of three categories."
   ]
  }
 ],
 "metadata": {
  "kernelspec": {
   "display_name": "python310",
   "language": "python",
   "name": "python3"
  },
  "language_info": {
   "codemirror_mode": {
    "name": "ipython",
    "version": 3
   },
   "file_extension": ".py",
   "mimetype": "text/x-python",
   "name": "python",
   "nbconvert_exporter": "python",
   "pygments_lexer": "ipython3",
   "version": "3.10.13"
  }
 },
 "nbformat": 4,
 "nbformat_minor": 2
}
