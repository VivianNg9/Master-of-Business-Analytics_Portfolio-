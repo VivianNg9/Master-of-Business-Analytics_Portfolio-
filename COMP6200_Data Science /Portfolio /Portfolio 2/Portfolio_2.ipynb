{
  "cells": [
    {
      "cell_type": "markdown",
      "id": "Z88FfJc9lA_T",
      "metadata": {
        "id": "Z88FfJc9lA_T"
      },
      "source": [
        "## Analysis of an E-commerce Dataset Part 2"
      ]
    },
    {
      "cell_type": "markdown",
      "id": "b5225445",
      "metadata": {},
      "source": [
        "## Name: Mai Vy (Vivian) Nguyen\n",
        "## Student ID: 47554029"
      ]
    },
    {
      "cell_type": "markdown",
      "id": "hoq0NwA9lA_V",
      "metadata": {
        "id": "hoq0NwA9lA_V"
      },
      "source": [
        "The goal of the second analysis task is to train linear regression models to predict users' ratings towards items. This involves a standard Data Science workflow: exploring data, building models, making predictions, and evaluating results. In this task, we will explore the impacts of feature selections and different sizes of training/testing data on the model performance. We will use another cleaned combined e-commerce sub-dataset that **is different from** the one in “Analysis of an E-commerce Dataset” task 1."
      ]
    },
    {
      "cell_type": "code",
      "execution_count": 1,
      "id": "2d0e996e",
      "metadata": {},
      "outputs": [],
      "source": [
        "import pandas as pd\n",
        "import numpy as np"
      ]
    },
    {
      "cell_type": "markdown",
      "id": "f9fd3NU_lA_W",
      "metadata": {
        "id": "f9fd3NU_lA_W"
      },
      "source": [
        "### Import Cleaned E-commerce Dataset\n",
        "The csv file named 'cleaned_ecommerce_dataset.csv' is provided. You may need to use the Pandas method, i.e., `read_csv`, for reading it. After that, please print out its total length."
      ]
    },
    {
      "cell_type": "code",
      "execution_count": 2,
      "id": "PJrb2gtAlA_W",
      "metadata": {
        "id": "PJrb2gtAlA_W"
      },
      "outputs": [
        {
          "data": {
            "text/html": [
              "<div>\n",
              "<style scoped>\n",
              "    .dataframe tbody tr th:only-of-type {\n",
              "        vertical-align: middle;\n",
              "    }\n",
              "\n",
              "    .dataframe tbody tr th {\n",
              "        vertical-align: top;\n",
              "    }\n",
              "\n",
              "    .dataframe thead th {\n",
              "        text-align: right;\n",
              "    }\n",
              "</style>\n",
              "<table border=\"1\" class=\"dataframe\">\n",
              "  <thead>\n",
              "    <tr style=\"text-align: right;\">\n",
              "      <th></th>\n",
              "      <th>userId</th>\n",
              "      <th>timestamp</th>\n",
              "      <th>review</th>\n",
              "      <th>item</th>\n",
              "      <th>rating</th>\n",
              "      <th>helpfulness</th>\n",
              "      <th>gender</th>\n",
              "      <th>category</th>\n",
              "      <th>item_id</th>\n",
              "      <th>item_price</th>\n",
              "      <th>user_city</th>\n",
              "    </tr>\n",
              "  </thead>\n",
              "  <tbody>\n",
              "    <tr>\n",
              "      <th>0</th>\n",
              "      <td>4081</td>\n",
              "      <td>71900</td>\n",
              "      <td>Not always McCrap</td>\n",
              "      <td>McDonald's</td>\n",
              "      <td>4.0</td>\n",
              "      <td>3.0</td>\n",
              "      <td>M</td>\n",
              "      <td>Restaurants &amp; Gourmet</td>\n",
              "      <td>41</td>\n",
              "      <td>30.74</td>\n",
              "      <td>4</td>\n",
              "    </tr>\n",
              "    <tr>\n",
              "      <th>1</th>\n",
              "      <td>4081</td>\n",
              "      <td>72000</td>\n",
              "      <td>I dropped the chalupa even before he told me to</td>\n",
              "      <td>Taco Bell</td>\n",
              "      <td>1.0</td>\n",
              "      <td>4.0</td>\n",
              "      <td>M</td>\n",
              "      <td>Restaurants &amp; Gourmet</td>\n",
              "      <td>74</td>\n",
              "      <td>108.30</td>\n",
              "      <td>4</td>\n",
              "    </tr>\n",
              "    <tr>\n",
              "      <th>2</th>\n",
              "      <td>4081</td>\n",
              "      <td>72000</td>\n",
              "      <td>The Wonderful World of Wendy</td>\n",
              "      <td>Wendy's</td>\n",
              "      <td>5.0</td>\n",
              "      <td>4.0</td>\n",
              "      <td>M</td>\n",
              "      <td>Restaurants &amp; Gourmet</td>\n",
              "      <td>84</td>\n",
              "      <td>69.00</td>\n",
              "      <td>4</td>\n",
              "    </tr>\n",
              "    <tr>\n",
              "      <th>3</th>\n",
              "      <td>4081</td>\n",
              "      <td>100399</td>\n",
              "      <td>They actually did it</td>\n",
              "      <td>South Park: Bigger, Longer &amp; Uncut</td>\n",
              "      <td>5.0</td>\n",
              "      <td>3.0</td>\n",
              "      <td>M</td>\n",
              "      <td>Movies</td>\n",
              "      <td>68</td>\n",
              "      <td>143.11</td>\n",
              "      <td>4</td>\n",
              "    </tr>\n",
              "    <tr>\n",
              "      <th>4</th>\n",
              "      <td>4081</td>\n",
              "      <td>100399</td>\n",
              "      <td>Hey! Gimme some pie!</td>\n",
              "      <td>American Pie</td>\n",
              "      <td>3.0</td>\n",
              "      <td>3.0</td>\n",
              "      <td>M</td>\n",
              "      <td>Movies</td>\n",
              "      <td>6</td>\n",
              "      <td>117.89</td>\n",
              "      <td>4</td>\n",
              "    </tr>\n",
              "    <tr>\n",
              "      <th>...</th>\n",
              "      <td>...</td>\n",
              "      <td>...</td>\n",
              "      <td>...</td>\n",
              "      <td>...</td>\n",
              "      <td>...</td>\n",
              "      <td>...</td>\n",
              "      <td>...</td>\n",
              "      <td>...</td>\n",
              "      <td>...</td>\n",
              "      <td>...</td>\n",
              "      <td>...</td>\n",
              "    </tr>\n",
              "    <tr>\n",
              "      <th>2680</th>\n",
              "      <td>2445</td>\n",
              "      <td>22000</td>\n",
              "      <td>Great movie!</td>\n",
              "      <td>Austin Powers: The Spy Who Shagged Me</td>\n",
              "      <td>5.0</td>\n",
              "      <td>3.0</td>\n",
              "      <td>M</td>\n",
              "      <td>Movies</td>\n",
              "      <td>9</td>\n",
              "      <td>111.00</td>\n",
              "      <td>5</td>\n",
              "    </tr>\n",
              "    <tr>\n",
              "      <th>2681</th>\n",
              "      <td>2445</td>\n",
              "      <td>30700</td>\n",
              "      <td>Good food!</td>\n",
              "      <td>Outback Steakhouse</td>\n",
              "      <td>5.0</td>\n",
              "      <td>3.0</td>\n",
              "      <td>M</td>\n",
              "      <td>Restaurants &amp; Gourmet</td>\n",
              "      <td>50</td>\n",
              "      <td>25.00</td>\n",
              "      <td>5</td>\n",
              "    </tr>\n",
              "    <tr>\n",
              "      <th>2682</th>\n",
              "      <td>2445</td>\n",
              "      <td>61500</td>\n",
              "      <td>Great movie!</td>\n",
              "      <td>Fight Club</td>\n",
              "      <td>5.0</td>\n",
              "      <td>3.0</td>\n",
              "      <td>M</td>\n",
              "      <td>Movies</td>\n",
              "      <td>26</td>\n",
              "      <td>97.53</td>\n",
              "      <td>5</td>\n",
              "    </tr>\n",
              "    <tr>\n",
              "      <th>2683</th>\n",
              "      <td>2445</td>\n",
              "      <td>100500</td>\n",
              "      <td>Awesome Game.</td>\n",
              "      <td>The Sims 2: Open for Business for Windows</td>\n",
              "      <td>5.0</td>\n",
              "      <td>4.0</td>\n",
              "      <td>M</td>\n",
              "      <td>Games</td>\n",
              "      <td>79</td>\n",
              "      <td>27.00</td>\n",
              "      <td>5</td>\n",
              "    </tr>\n",
              "    <tr>\n",
              "      <th>2684</th>\n",
              "      <td>2445</td>\n",
              "      <td>101400</td>\n",
              "      <td>Great Service.</td>\n",
              "      <td>PayPal</td>\n",
              "      <td>5.0</td>\n",
              "      <td>3.0</td>\n",
              "      <td>M</td>\n",
              "      <td>Personal Finance</td>\n",
              "      <td>52</td>\n",
              "      <td>38.00</td>\n",
              "      <td>5</td>\n",
              "    </tr>\n",
              "  </tbody>\n",
              "</table>\n",
              "<p>2685 rows × 11 columns</p>\n",
              "</div>"
            ],
            "text/plain": [
              "      userId  timestamp                                           review  \\\n",
              "0       4081      71900                                Not always McCrap   \n",
              "1       4081      72000  I dropped the chalupa even before he told me to   \n",
              "2       4081      72000                     The Wonderful World of Wendy   \n",
              "3       4081     100399                             They actually did it   \n",
              "4       4081     100399                             Hey! Gimme some pie!   \n",
              "...      ...        ...                                              ...   \n",
              "2680    2445      22000                                     Great movie!   \n",
              "2681    2445      30700                                       Good food!   \n",
              "2682    2445      61500                                     Great movie!   \n",
              "2683    2445     100500                                    Awesome Game.   \n",
              "2684    2445     101400                                   Great Service.   \n",
              "\n",
              "                                           item  rating  helpfulness gender  \\\n",
              "0                                    McDonald's     4.0          3.0      M   \n",
              "1                                     Taco Bell     1.0          4.0      M   \n",
              "2                                       Wendy's     5.0          4.0      M   \n",
              "3            South Park: Bigger, Longer & Uncut     5.0          3.0      M   \n",
              "4                                  American Pie     3.0          3.0      M   \n",
              "...                                         ...     ...          ...    ...   \n",
              "2680      Austin Powers: The Spy Who Shagged Me     5.0          3.0      M   \n",
              "2681                         Outback Steakhouse     5.0          3.0      M   \n",
              "2682                                 Fight Club     5.0          3.0      M   \n",
              "2683  The Sims 2: Open for Business for Windows     5.0          4.0      M   \n",
              "2684                                     PayPal     5.0          3.0      M   \n",
              "\n",
              "                   category  item_id  item_price  user_city  \n",
              "0     Restaurants & Gourmet       41       30.74          4  \n",
              "1     Restaurants & Gourmet       74      108.30          4  \n",
              "2     Restaurants & Gourmet       84       69.00          4  \n",
              "3                    Movies       68      143.11          4  \n",
              "4                    Movies        6      117.89          4  \n",
              "...                     ...      ...         ...        ...  \n",
              "2680                 Movies        9      111.00          5  \n",
              "2681  Restaurants & Gourmet       50       25.00          5  \n",
              "2682                 Movies       26       97.53          5  \n",
              "2683                  Games       79       27.00          5  \n",
              "2684       Personal Finance       52       38.00          5  \n",
              "\n",
              "[2685 rows x 11 columns]"
            ]
          },
          "execution_count": 2,
          "metadata": {},
          "output_type": "execute_result"
        }
      ],
      "source": [
        "pd.read_csv('cleaned_ecommerce_dataset.csv')"
      ]
    },
    {
      "cell_type": "code",
      "execution_count": 3,
      "id": "b4118230",
      "metadata": {},
      "outputs": [],
      "source": [
        "df=pd.read_csv('cleaned_ecommerce_dataset.csv')"
      ]
    },
    {
      "cell_type": "code",
      "execution_count": 4,
      "id": "ca5167bb",
      "metadata": {},
      "outputs": [
        {
          "name": "stdout",
          "output_type": "stream",
          "text": [
            "total length: 2685\n"
          ]
        }
      ],
      "source": [
        "#print total length\n",
        "print('total length:',len(df))"
      ]
    },
    {
      "cell_type": "markdown",
      "id": "aqbuU6rglA_X",
      "metadata": {
        "id": "aqbuU6rglA_X"
      },
      "source": [
        "### Explore the Dataset\n",
        "\n",
        "* Use the methods, i.e., `head()` and `info()`, to have a rough picture about the data, e.g., how many columns, and the data types of each column.\n",
        "* As our goal is to predict ratings given other columns, please get the correlations between helpfulness/gender/category/review and rating by using the `corr()` method.\n",
        "* To get the correlations between different features, you may need to first convert the categorical features (i.e., gender, category and review) into numerial values. For doing this, you may need to import `OrdinalEncoder` from `sklearn.preprocessing` (refer to the useful examexaples [here](https://pbpython.com/categorical-encoding.html))\n",
        "* Please provide ___necessary explanations/analysis___ on the correlations, and figure out which are the ___most___ and ___least___ corrleated features regarding rating. Try to ___discuss___ how the correlation will affect the final prediction results, if we use these features to train a regression model for rating prediction. In what follows, we will conduct experiments to verify your hypothesis."
      ]
    },
    {
      "cell_type": "code",
      "execution_count": 5,
      "id": "W3PImHiElA_X",
      "metadata": {
        "id": "W3PImHiElA_X"
      },
      "outputs": [
        {
          "data": {
            "text/html": [
              "<div>\n",
              "<style scoped>\n",
              "    .dataframe tbody tr th:only-of-type {\n",
              "        vertical-align: middle;\n",
              "    }\n",
              "\n",
              "    .dataframe tbody tr th {\n",
              "        vertical-align: top;\n",
              "    }\n",
              "\n",
              "    .dataframe thead th {\n",
              "        text-align: right;\n",
              "    }\n",
              "</style>\n",
              "<table border=\"1\" class=\"dataframe\">\n",
              "  <thead>\n",
              "    <tr style=\"text-align: right;\">\n",
              "      <th></th>\n",
              "      <th>userId</th>\n",
              "      <th>timestamp</th>\n",
              "      <th>review</th>\n",
              "      <th>item</th>\n",
              "      <th>rating</th>\n",
              "      <th>helpfulness</th>\n",
              "      <th>gender</th>\n",
              "      <th>category</th>\n",
              "      <th>item_id</th>\n",
              "      <th>item_price</th>\n",
              "      <th>user_city</th>\n",
              "    </tr>\n",
              "  </thead>\n",
              "  <tbody>\n",
              "    <tr>\n",
              "      <th>0</th>\n",
              "      <td>4081</td>\n",
              "      <td>71900</td>\n",
              "      <td>Not always McCrap</td>\n",
              "      <td>McDonald's</td>\n",
              "      <td>4.0</td>\n",
              "      <td>3.0</td>\n",
              "      <td>M</td>\n",
              "      <td>Restaurants &amp; Gourmet</td>\n",
              "      <td>41</td>\n",
              "      <td>30.74</td>\n",
              "      <td>4</td>\n",
              "    </tr>\n",
              "    <tr>\n",
              "      <th>1</th>\n",
              "      <td>4081</td>\n",
              "      <td>72000</td>\n",
              "      <td>I dropped the chalupa even before he told me to</td>\n",
              "      <td>Taco Bell</td>\n",
              "      <td>1.0</td>\n",
              "      <td>4.0</td>\n",
              "      <td>M</td>\n",
              "      <td>Restaurants &amp; Gourmet</td>\n",
              "      <td>74</td>\n",
              "      <td>108.30</td>\n",
              "      <td>4</td>\n",
              "    </tr>\n",
              "    <tr>\n",
              "      <th>2</th>\n",
              "      <td>4081</td>\n",
              "      <td>72000</td>\n",
              "      <td>The Wonderful World of Wendy</td>\n",
              "      <td>Wendy's</td>\n",
              "      <td>5.0</td>\n",
              "      <td>4.0</td>\n",
              "      <td>M</td>\n",
              "      <td>Restaurants &amp; Gourmet</td>\n",
              "      <td>84</td>\n",
              "      <td>69.00</td>\n",
              "      <td>4</td>\n",
              "    </tr>\n",
              "    <tr>\n",
              "      <th>3</th>\n",
              "      <td>4081</td>\n",
              "      <td>100399</td>\n",
              "      <td>They actually did it</td>\n",
              "      <td>South Park: Bigger, Longer &amp; Uncut</td>\n",
              "      <td>5.0</td>\n",
              "      <td>3.0</td>\n",
              "      <td>M</td>\n",
              "      <td>Movies</td>\n",
              "      <td>68</td>\n",
              "      <td>143.11</td>\n",
              "      <td>4</td>\n",
              "    </tr>\n",
              "    <tr>\n",
              "      <th>4</th>\n",
              "      <td>4081</td>\n",
              "      <td>100399</td>\n",
              "      <td>Hey! Gimme some pie!</td>\n",
              "      <td>American Pie</td>\n",
              "      <td>3.0</td>\n",
              "      <td>3.0</td>\n",
              "      <td>M</td>\n",
              "      <td>Movies</td>\n",
              "      <td>6</td>\n",
              "      <td>117.89</td>\n",
              "      <td>4</td>\n",
              "    </tr>\n",
              "  </tbody>\n",
              "</table>\n",
              "</div>"
            ],
            "text/plain": [
              "   userId  timestamp                                           review  \\\n",
              "0    4081      71900                                Not always McCrap   \n",
              "1    4081      72000  I dropped the chalupa even before he told me to   \n",
              "2    4081      72000                     The Wonderful World of Wendy   \n",
              "3    4081     100399                             They actually did it   \n",
              "4    4081     100399                             Hey! Gimme some pie!   \n",
              "\n",
              "                                 item  rating  helpfulness gender  \\\n",
              "0                          McDonald's     4.0          3.0      M   \n",
              "1                           Taco Bell     1.0          4.0      M   \n",
              "2                             Wendy's     5.0          4.0      M   \n",
              "3  South Park: Bigger, Longer & Uncut     5.0          3.0      M   \n",
              "4                        American Pie     3.0          3.0      M   \n",
              "\n",
              "                category  item_id  item_price  user_city  \n",
              "0  Restaurants & Gourmet       41       30.74          4  \n",
              "1  Restaurants & Gourmet       74      108.30          4  \n",
              "2  Restaurants & Gourmet       84       69.00          4  \n",
              "3                 Movies       68      143.11          4  \n",
              "4                 Movies        6      117.89          4  "
            ]
          },
          "execution_count": 5,
          "metadata": {},
          "output_type": "execute_result"
        }
      ],
      "source": [
        "df.head()"
      ]
    },
    {
      "cell_type": "code",
      "execution_count": 6,
      "id": "28b6e21d",
      "metadata": {},
      "outputs": [
        {
          "name": "stdout",
          "output_type": "stream",
          "text": [
            "<class 'pandas.core.frame.DataFrame'>\n",
            "RangeIndex: 2685 entries, 0 to 2684\n",
            "Data columns (total 11 columns):\n",
            " #   Column       Non-Null Count  Dtype  \n",
            "---  ------       --------------  -----  \n",
            " 0   userId       2685 non-null   int64  \n",
            " 1   timestamp    2685 non-null   int64  \n",
            " 2   review       2685 non-null   object \n",
            " 3   item         2685 non-null   object \n",
            " 4   rating       2685 non-null   float64\n",
            " 5   helpfulness  2685 non-null   float64\n",
            " 6   gender       2685 non-null   object \n",
            " 7   category     2685 non-null   object \n",
            " 8   item_id      2685 non-null   int64  \n",
            " 9   item_price   2685 non-null   float64\n",
            " 10  user_city    2685 non-null   int64  \n",
            "dtypes: float64(3), int64(4), object(4)\n",
            "memory usage: 230.9+ KB\n"
          ]
        }
      ],
      "source": [
        "df.info()"
      ]
    },
    {
      "cell_type": "code",
      "execution_count": 7,
      "id": "7c494f1d",
      "metadata": {},
      "outputs": [
        {
          "name": "stderr",
          "output_type": "stream",
          "text": [
            "/var/folders/0_/9wkg38p56mnfzr3wb9_m9r2m0000gn/T/ipykernel_2686/1073692776.py:2: FutureWarning: The default value of numeric_only in DataFrame.corr is deprecated. In a future version, it will default to False. Select only valid columns or specify the value of numeric_only to silence this warning.\n",
            "  df[['helpfulness','gender','category','review','rating']].corr()\n"
          ]
        },
        {
          "data": {
            "text/html": [
              "<div>\n",
              "<style scoped>\n",
              "    .dataframe tbody tr th:only-of-type {\n",
              "        vertical-align: middle;\n",
              "    }\n",
              "\n",
              "    .dataframe tbody tr th {\n",
              "        vertical-align: top;\n",
              "    }\n",
              "\n",
              "    .dataframe thead th {\n",
              "        text-align: right;\n",
              "    }\n",
              "</style>\n",
              "<table border=\"1\" class=\"dataframe\">\n",
              "  <thead>\n",
              "    <tr style=\"text-align: right;\">\n",
              "      <th></th>\n",
              "      <th>helpfulness</th>\n",
              "      <th>rating</th>\n",
              "    </tr>\n",
              "  </thead>\n",
              "  <tbody>\n",
              "    <tr>\n",
              "      <th>helpfulness</th>\n",
              "      <td>1.000000</td>\n",
              "      <td>-0.007523</td>\n",
              "    </tr>\n",
              "    <tr>\n",
              "      <th>rating</th>\n",
              "      <td>-0.007523</td>\n",
              "      <td>1.000000</td>\n",
              "    </tr>\n",
              "  </tbody>\n",
              "</table>\n",
              "</div>"
            ],
            "text/plain": [
              "             helpfulness    rating\n",
              "helpfulness     1.000000 -0.007523\n",
              "rating         -0.007523  1.000000"
            ]
          },
          "execution_count": 7,
          "metadata": {},
          "output_type": "execute_result"
        }
      ],
      "source": [
        "# The correlations between helpfulness/gender/category/review and rating \n",
        "df[['helpfulness','gender','category','review','rating']].corr()"
      ]
    },
    {
      "cell_type": "code",
      "execution_count": 8,
      "id": "a7e442eb",
      "metadata": {},
      "outputs": [],
      "source": [
        "from sklearn.preprocessing import OrdinalEncoder"
      ]
    },
    {
      "cell_type": "code",
      "execution_count": 9,
      "id": "b88a3614",
      "metadata": {},
      "outputs": [],
      "source": [
        "# Convert the categorical features (i.e., gender, category and review) into numerial values\n",
        "enc = OrdinalEncoder(dtype=int)\n",
        "df['gender_code'] = enc.fit_transform(df[['gender']])\n",
        "df['category_code'] = enc.fit_transform(df[['category']])\n",
        "df['review_code'] = enc.fit_transform(df[['review']])"
      ]
    },
    {
      "cell_type": "code",
      "execution_count": 10,
      "id": "3a062f67",
      "metadata": {},
      "outputs": [
        {
          "data": {
            "text/html": [
              "<div>\n",
              "<style scoped>\n",
              "    .dataframe tbody tr th:only-of-type {\n",
              "        vertical-align: middle;\n",
              "    }\n",
              "\n",
              "    .dataframe tbody tr th {\n",
              "        vertical-align: top;\n",
              "    }\n",
              "\n",
              "    .dataframe thead th {\n",
              "        text-align: right;\n",
              "    }\n",
              "</style>\n",
              "<table border=\"1\" class=\"dataframe\">\n",
              "  <thead>\n",
              "    <tr style=\"text-align: right;\">\n",
              "      <th></th>\n",
              "      <th>userId</th>\n",
              "      <th>timestamp</th>\n",
              "      <th>review</th>\n",
              "      <th>item</th>\n",
              "      <th>rating</th>\n",
              "      <th>helpfulness</th>\n",
              "      <th>gender</th>\n",
              "      <th>category</th>\n",
              "      <th>item_id</th>\n",
              "      <th>item_price</th>\n",
              "      <th>user_city</th>\n",
              "      <th>gender_code</th>\n",
              "      <th>category_code</th>\n",
              "      <th>review_code</th>\n",
              "    </tr>\n",
              "  </thead>\n",
              "  <tbody>\n",
              "    <tr>\n",
              "      <th>0</th>\n",
              "      <td>4081</td>\n",
              "      <td>71900</td>\n",
              "      <td>Not always McCrap</td>\n",
              "      <td>McDonald's</td>\n",
              "      <td>4.0</td>\n",
              "      <td>3.0</td>\n",
              "      <td>M</td>\n",
              "      <td>Restaurants &amp; Gourmet</td>\n",
              "      <td>41</td>\n",
              "      <td>30.74</td>\n",
              "      <td>4</td>\n",
              "      <td>1</td>\n",
              "      <td>8</td>\n",
              "      <td>1618</td>\n",
              "    </tr>\n",
              "    <tr>\n",
              "      <th>1</th>\n",
              "      <td>4081</td>\n",
              "      <td>72000</td>\n",
              "      <td>I dropped the chalupa even before he told me to</td>\n",
              "      <td>Taco Bell</td>\n",
              "      <td>1.0</td>\n",
              "      <td>4.0</td>\n",
              "      <td>M</td>\n",
              "      <td>Restaurants &amp; Gourmet</td>\n",
              "      <td>74</td>\n",
              "      <td>108.30</td>\n",
              "      <td>4</td>\n",
              "      <td>1</td>\n",
              "      <td>8</td>\n",
              "      <td>1125</td>\n",
              "    </tr>\n",
              "    <tr>\n",
              "      <th>2</th>\n",
              "      <td>4081</td>\n",
              "      <td>72000</td>\n",
              "      <td>The Wonderful World of Wendy</td>\n",
              "      <td>Wendy's</td>\n",
              "      <td>5.0</td>\n",
              "      <td>4.0</td>\n",
              "      <td>M</td>\n",
              "      <td>Restaurants &amp; Gourmet</td>\n",
              "      <td>84</td>\n",
              "      <td>69.00</td>\n",
              "      <td>4</td>\n",
              "      <td>1</td>\n",
              "      <td>8</td>\n",
              "      <td>2185</td>\n",
              "    </tr>\n",
              "    <tr>\n",
              "      <th>3</th>\n",
              "      <td>4081</td>\n",
              "      <td>100399</td>\n",
              "      <td>They actually did it</td>\n",
              "      <td>South Park: Bigger, Longer &amp; Uncut</td>\n",
              "      <td>5.0</td>\n",
              "      <td>3.0</td>\n",
              "      <td>M</td>\n",
              "      <td>Movies</td>\n",
              "      <td>68</td>\n",
              "      <td>143.11</td>\n",
              "      <td>4</td>\n",
              "      <td>1</td>\n",
              "      <td>5</td>\n",
              "      <td>2243</td>\n",
              "    </tr>\n",
              "    <tr>\n",
              "      <th>4</th>\n",
              "      <td>4081</td>\n",
              "      <td>100399</td>\n",
              "      <td>Hey! Gimme some pie!</td>\n",
              "      <td>American Pie</td>\n",
              "      <td>3.0</td>\n",
              "      <td>3.0</td>\n",
              "      <td>M</td>\n",
              "      <td>Movies</td>\n",
              "      <td>6</td>\n",
              "      <td>117.89</td>\n",
              "      <td>4</td>\n",
              "      <td>1</td>\n",
              "      <td>5</td>\n",
              "      <td>1033</td>\n",
              "    </tr>\n",
              "    <tr>\n",
              "      <th>...</th>\n",
              "      <td>...</td>\n",
              "      <td>...</td>\n",
              "      <td>...</td>\n",
              "      <td>...</td>\n",
              "      <td>...</td>\n",
              "      <td>...</td>\n",
              "      <td>...</td>\n",
              "      <td>...</td>\n",
              "      <td>...</td>\n",
              "      <td>...</td>\n",
              "      <td>...</td>\n",
              "      <td>...</td>\n",
              "      <td>...</td>\n",
              "      <td>...</td>\n",
              "    </tr>\n",
              "    <tr>\n",
              "      <th>2680</th>\n",
              "      <td>2445</td>\n",
              "      <td>22000</td>\n",
              "      <td>Great movie!</td>\n",
              "      <td>Austin Powers: The Spy Who Shagged Me</td>\n",
              "      <td>5.0</td>\n",
              "      <td>3.0</td>\n",
              "      <td>M</td>\n",
              "      <td>Movies</td>\n",
              "      <td>9</td>\n",
              "      <td>111.00</td>\n",
              "      <td>5</td>\n",
              "      <td>1</td>\n",
              "      <td>5</td>\n",
              "      <td>968</td>\n",
              "    </tr>\n",
              "    <tr>\n",
              "      <th>2681</th>\n",
              "      <td>2445</td>\n",
              "      <td>30700</td>\n",
              "      <td>Good food!</td>\n",
              "      <td>Outback Steakhouse</td>\n",
              "      <td>5.0</td>\n",
              "      <td>3.0</td>\n",
              "      <td>M</td>\n",
              "      <td>Restaurants &amp; Gourmet</td>\n",
              "      <td>50</td>\n",
              "      <td>25.00</td>\n",
              "      <td>5</td>\n",
              "      <td>1</td>\n",
              "      <td>8</td>\n",
              "      <td>920</td>\n",
              "    </tr>\n",
              "    <tr>\n",
              "      <th>2682</th>\n",
              "      <td>2445</td>\n",
              "      <td>61500</td>\n",
              "      <td>Great movie!</td>\n",
              "      <td>Fight Club</td>\n",
              "      <td>5.0</td>\n",
              "      <td>3.0</td>\n",
              "      <td>M</td>\n",
              "      <td>Movies</td>\n",
              "      <td>26</td>\n",
              "      <td>97.53</td>\n",
              "      <td>5</td>\n",
              "      <td>1</td>\n",
              "      <td>5</td>\n",
              "      <td>968</td>\n",
              "    </tr>\n",
              "    <tr>\n",
              "      <th>2683</th>\n",
              "      <td>2445</td>\n",
              "      <td>100500</td>\n",
              "      <td>Awesome Game.</td>\n",
              "      <td>The Sims 2: Open for Business for Windows</td>\n",
              "      <td>5.0</td>\n",
              "      <td>4.0</td>\n",
              "      <td>M</td>\n",
              "      <td>Games</td>\n",
              "      <td>79</td>\n",
              "      <td>27.00</td>\n",
              "      <td>5</td>\n",
              "      <td>1</td>\n",
              "      <td>1</td>\n",
              "      <td>372</td>\n",
              "    </tr>\n",
              "    <tr>\n",
              "      <th>2684</th>\n",
              "      <td>2445</td>\n",
              "      <td>101400</td>\n",
              "      <td>Great Service.</td>\n",
              "      <td>PayPal</td>\n",
              "      <td>5.0</td>\n",
              "      <td>3.0</td>\n",
              "      <td>M</td>\n",
              "      <td>Personal Finance</td>\n",
              "      <td>52</td>\n",
              "      <td>38.00</td>\n",
              "      <td>5</td>\n",
              "      <td>1</td>\n",
              "      <td>7</td>\n",
              "      <td>959</td>\n",
              "    </tr>\n",
              "  </tbody>\n",
              "</table>\n",
              "<p>2685 rows × 14 columns</p>\n",
              "</div>"
            ],
            "text/plain": [
              "      userId  timestamp                                           review  \\\n",
              "0       4081      71900                                Not always McCrap   \n",
              "1       4081      72000  I dropped the chalupa even before he told me to   \n",
              "2       4081      72000                     The Wonderful World of Wendy   \n",
              "3       4081     100399                             They actually did it   \n",
              "4       4081     100399                             Hey! Gimme some pie!   \n",
              "...      ...        ...                                              ...   \n",
              "2680    2445      22000                                     Great movie!   \n",
              "2681    2445      30700                                       Good food!   \n",
              "2682    2445      61500                                     Great movie!   \n",
              "2683    2445     100500                                    Awesome Game.   \n",
              "2684    2445     101400                                   Great Service.   \n",
              "\n",
              "                                           item  rating  helpfulness gender  \\\n",
              "0                                    McDonald's     4.0          3.0      M   \n",
              "1                                     Taco Bell     1.0          4.0      M   \n",
              "2                                       Wendy's     5.0          4.0      M   \n",
              "3            South Park: Bigger, Longer & Uncut     5.0          3.0      M   \n",
              "4                                  American Pie     3.0          3.0      M   \n",
              "...                                         ...     ...          ...    ...   \n",
              "2680      Austin Powers: The Spy Who Shagged Me     5.0          3.0      M   \n",
              "2681                         Outback Steakhouse     5.0          3.0      M   \n",
              "2682                                 Fight Club     5.0          3.0      M   \n",
              "2683  The Sims 2: Open for Business for Windows     5.0          4.0      M   \n",
              "2684                                     PayPal     5.0          3.0      M   \n",
              "\n",
              "                   category  item_id  item_price  user_city  gender_code  \\\n",
              "0     Restaurants & Gourmet       41       30.74          4            1   \n",
              "1     Restaurants & Gourmet       74      108.30          4            1   \n",
              "2     Restaurants & Gourmet       84       69.00          4            1   \n",
              "3                    Movies       68      143.11          4            1   \n",
              "4                    Movies        6      117.89          4            1   \n",
              "...                     ...      ...         ...        ...          ...   \n",
              "2680                 Movies        9      111.00          5            1   \n",
              "2681  Restaurants & Gourmet       50       25.00          5            1   \n",
              "2682                 Movies       26       97.53          5            1   \n",
              "2683                  Games       79       27.00          5            1   \n",
              "2684       Personal Finance       52       38.00          5            1   \n",
              "\n",
              "      category_code  review_code  \n",
              "0                 8         1618  \n",
              "1                 8         1125  \n",
              "2                 8         2185  \n",
              "3                 5         2243  \n",
              "4                 5         1033  \n",
              "...             ...          ...  \n",
              "2680              5          968  \n",
              "2681              8          920  \n",
              "2682              5          968  \n",
              "2683              1          372  \n",
              "2684              7          959  \n",
              "\n",
              "[2685 rows x 14 columns]"
            ]
          },
          "execution_count": 10,
          "metadata": {},
          "output_type": "execute_result"
        }
      ],
      "source": [
        "df"
      ]
    },
    {
      "cell_type": "code",
      "execution_count": 11,
      "id": "286a86cf",
      "metadata": {},
      "outputs": [
        {
          "name": "stdout",
          "output_type": "stream",
          "text": [
            "corr_helpfulness: -0.007523337726844546\n",
            "corr_gender: -0.03433661424208265\n",
            "corr_category: -0.16315765340915656\n",
            "corr_review: -0.036118386552122385\n"
          ]
        }
      ],
      "source": [
        "# The correlations between helpfulness/gender/category/review and rating \n",
        "corr_helpfulness = df['helpfulness'].corr(df['rating'])\n",
        "corr_gender = df['gender_code'].corr(df['rating'])\n",
        "corr_category = df['category_code'].corr(df['rating'])\n",
        "corr_review = df['review_code'].corr(df['rating'])\n",
        "\n",
        "print('corr_helpfulness:', corr_helpfulness)\n",
        "print('corr_gender:', corr_gender)\n",
        "print('corr_category:', corr_category)\n",
        "print('corr_review:', corr_review)"
      ]
    },
    {
      "cell_type": "markdown",
      "id": "07cd35c8",
      "metadata": {},
      "source": [
        "#### Necessary explanation/ analysis\n",
        "- Overall, the correlation between these 4 columns and rating are very weak because the values are very small. Therefore using these 4 columns as input features to predict rating should not get good result.\n",
        "- The most correlated features are category (and review).\n",
        "- The least correlated features are helpfulness (and gender).\n"
      ]
    },
    {
      "cell_type": "markdown",
      "id": "4myP5igslA_Y",
      "metadata": {
        "id": "4myP5igslA_Y"
      },
      "source": [
        "### Split Training and Testing Data\n",
        "* Machine learning models are trained to help make predictions for the future. Normally, we need to randomly split the dataset into training and testing sets, where we use the training set to train the model, and then leverage the well-trained model to make predictions on the testing set.\n",
        "* To further investigate whether the size of the training/testing data affects the model performance, please random split the data into training and testing sets with different sizes:\n",
        "    * Case 1: training data containing 10% of the entire data;\n",
        "    * Case 2: training data containing 90% of the entire data.\n",
        "* Print the shape of training and testing sets in the two cases."
      ]
    },
    {
      "cell_type": "code",
      "execution_count": 12,
      "id": "c36af879",
      "metadata": {},
      "outputs": [],
      "source": [
        "from sklearn.model_selection import train_test_split"
      ]
    },
    {
      "cell_type": "code",
      "execution_count": 13,
      "id": "29329317",
      "metadata": {},
      "outputs": [
        {
          "name": "stdout",
          "output_type": "stream",
          "text": [
            "Shape of case 1 train set: (268, 14)\n",
            "Shape of case 1 test set: (2417, 14)\n",
            "Shape of case 2 train set: (2416, 14)\n",
            "Shape of case 2 test set: (269, 14)\n"
          ]
        }
      ],
      "source": [
        "# Case1: training data containing 10% of the entire data\n",
        "train_case1, test_case1 = train_test_split(df, train_size=0.1, random_state=142)\n",
        "print('Shape of case 1 train set:',train_case1.shape)\n",
        "print('Shape of case 1 test set:',test_case1.shape)\n",
        "\n",
        "# Case 2: training data containing 90% of the entire data\n",
        "train_case2, test_case2 = train_test_split(df, train_size=0.9, random_state=142)\n",
        "print('Shape of case 2 train set:', train_case2.shape)\n",
        "print('Shape of case 2 test set:', test_case2.shape)"
      ]
    },
    {
      "cell_type": "markdown",
      "id": "DjSsgT0BlA_Y",
      "metadata": {
        "id": "DjSsgT0BlA_Y"
      },
      "source": [
        "### Train Linear Regression Models with Feature Selection under Cases 1 & 2\n",
        "* When training a machine learning model for prediction, we may need to select the most important/correlated input features for more accurate results.\n",
        "* To investigate whether feature selection affects the model performance, please select two most correlated features and two least correlated features regarding rating, respectively.\n",
        "* Train four linear regression models by following the conditions:\n",
        "    - (model-a) using the training/testing data in case 1 with two most correlated input features\n",
        "    - (model-b) using the training/testing data in case 1 with two least correlated input features\n",
        "    - (model-c) using the training/testing data in case 2 with two most correlated input features\n",
        "    - (model-d) using the training/testing data in case 2 with two least correlated input features\n",
        "* By doing this, we can verify the impacts of the size of traing/testing data on the model performance via comparing model-a and model-c (or model-b and model-d); meanwhile the impacts of feature selection can be validated via comparing model-a and model-b (or model-c and model-d).    "
      ]
    },
    {
      "cell_type": "code",
      "execution_count": 14,
      "id": "004cc4d0",
      "metadata": {},
      "outputs": [],
      "source": [
        "# Two most correlated input feature: 'category_code' and 'review_code'\n",
        "# Two least correlated input features: 'helpfulness' and 'gender_code'"
      ]
    },
    {
      "cell_type": "code",
      "execution_count": 15,
      "id": "85b9f76a",
      "metadata": {},
      "outputs": [],
      "source": [
        "from sklearn import linear_model"
      ]
    },
    {
      "cell_type": "code",
      "execution_count": 16,
      "id": "e274cb6a",
      "metadata": {},
      "outputs": [
        {
          "data": {
            "text/html": [
              "<style>#sk-container-id-1 {color: black;background-color: white;}#sk-container-id-1 pre{padding: 0;}#sk-container-id-1 div.sk-toggleable {background-color: white;}#sk-container-id-1 label.sk-toggleable__label {cursor: pointer;display: block;width: 100%;margin-bottom: 0;padding: 0.3em;box-sizing: border-box;text-align: center;}#sk-container-id-1 label.sk-toggleable__label-arrow:before {content: \"▸\";float: left;margin-right: 0.25em;color: #696969;}#sk-container-id-1 label.sk-toggleable__label-arrow:hover:before {color: black;}#sk-container-id-1 div.sk-estimator:hover label.sk-toggleable__label-arrow:before {color: black;}#sk-container-id-1 div.sk-toggleable__content {max-height: 0;max-width: 0;overflow: hidden;text-align: left;background-color: #f0f8ff;}#sk-container-id-1 div.sk-toggleable__content pre {margin: 0.2em;color: black;border-radius: 0.25em;background-color: #f0f8ff;}#sk-container-id-1 input.sk-toggleable__control:checked~div.sk-toggleable__content {max-height: 200px;max-width: 100%;overflow: auto;}#sk-container-id-1 input.sk-toggleable__control:checked~label.sk-toggleable__label-arrow:before {content: \"▾\";}#sk-container-id-1 div.sk-estimator input.sk-toggleable__control:checked~label.sk-toggleable__label {background-color: #d4ebff;}#sk-container-id-1 div.sk-label input.sk-toggleable__control:checked~label.sk-toggleable__label {background-color: #d4ebff;}#sk-container-id-1 input.sk-hidden--visually {border: 0;clip: rect(1px 1px 1px 1px);clip: rect(1px, 1px, 1px, 1px);height: 1px;margin: -1px;overflow: hidden;padding: 0;position: absolute;width: 1px;}#sk-container-id-1 div.sk-estimator {font-family: monospace;background-color: #f0f8ff;border: 1px dotted black;border-radius: 0.25em;box-sizing: border-box;margin-bottom: 0.5em;}#sk-container-id-1 div.sk-estimator:hover {background-color: #d4ebff;}#sk-container-id-1 div.sk-parallel-item::after {content: \"\";width: 100%;border-bottom: 1px solid gray;flex-grow: 1;}#sk-container-id-1 div.sk-label:hover label.sk-toggleable__label {background-color: #d4ebff;}#sk-container-id-1 div.sk-serial::before {content: \"\";position: absolute;border-left: 1px solid gray;box-sizing: border-box;top: 0;bottom: 0;left: 50%;z-index: 0;}#sk-container-id-1 div.sk-serial {display: flex;flex-direction: column;align-items: center;background-color: white;padding-right: 0.2em;padding-left: 0.2em;position: relative;}#sk-container-id-1 div.sk-item {position: relative;z-index: 1;}#sk-container-id-1 div.sk-parallel {display: flex;align-items: stretch;justify-content: center;background-color: white;position: relative;}#sk-container-id-1 div.sk-item::before, #sk-container-id-1 div.sk-parallel-item::before {content: \"\";position: absolute;border-left: 1px solid gray;box-sizing: border-box;top: 0;bottom: 0;left: 50%;z-index: -1;}#sk-container-id-1 div.sk-parallel-item {display: flex;flex-direction: column;z-index: 1;position: relative;background-color: white;}#sk-container-id-1 div.sk-parallel-item:first-child::after {align-self: flex-end;width: 50%;}#sk-container-id-1 div.sk-parallel-item:last-child::after {align-self: flex-start;width: 50%;}#sk-container-id-1 div.sk-parallel-item:only-child::after {width: 0;}#sk-container-id-1 div.sk-dashed-wrapped {border: 1px dashed gray;margin: 0 0.4em 0.5em 0.4em;box-sizing: border-box;padding-bottom: 0.4em;background-color: white;}#sk-container-id-1 div.sk-label label {font-family: monospace;font-weight: bold;display: inline-block;line-height: 1.2em;}#sk-container-id-1 div.sk-label-container {text-align: center;}#sk-container-id-1 div.sk-container {/* jupyter's `normalize.less` sets `[hidden] { display: none; }` but bootstrap.min.css set `[hidden] { display: none !important; }` so we also need the `!important` here to be able to override the default hidden behavior on the sphinx rendered scikit-learn.org. See: https://github.com/scikit-learn/scikit-learn/issues/21755 */display: inline-block !important;position: relative;}#sk-container-id-1 div.sk-text-repr-fallback {display: none;}</style><div id=\"sk-container-id-1\" class=\"sk-top-container\"><div class=\"sk-text-repr-fallback\"><pre>LinearRegression()</pre><b>In a Jupyter environment, please rerun this cell to show the HTML representation or trust the notebook. <br />On GitHub, the HTML representation is unable to render, please try loading this page with nbviewer.org.</b></div><div class=\"sk-container\" hidden><div class=\"sk-item\"><div class=\"sk-estimator sk-toggleable\"><input class=\"sk-toggleable__control sk-hidden--visually\" id=\"sk-estimator-id-1\" type=\"checkbox\" checked><label for=\"sk-estimator-id-1\" class=\"sk-toggleable__label sk-toggleable__label-arrow\">LinearRegression</label><div class=\"sk-toggleable__content\"><pre>LinearRegression()</pre></div></div></div></div></div>"
            ],
            "text/plain": [
              "LinearRegression()"
            ]
          },
          "execution_count": 16,
          "metadata": {},
          "output_type": "execute_result"
        }
      ],
      "source": [
        "# (model-a) using the training/testing data in case 1 with two most correlated input features\n",
        "reg_M1 = linear_model.LinearRegression()\n",
        "X_train_M1 = train_case1[['category_code','review_code']]\n",
        "y_train_M1 = train_case1['rating']\n",
        "X_test_M1 = test_case1[['category_code','review_code']]\n",
        "y_test_M1 = test_case1['rating']\n",
        "reg_M1.fit(X_train_M1, y_train_M1)\n",
        "\n",
        "# (model-b) using the training/testing data in case 1 with two least correlated input features\n",
        "reg_L1 = linear_model.LinearRegression()\n",
        "X_train_L1 = train_case1[['helpfulness','gender_code']]\n",
        "y_train_L1 = train_case1['rating']\n",
        "X_test_L1 = test_case1[['helpfulness','gender_code']]\n",
        "y_test_L1 = test_case1['rating']\n",
        "reg_L1.fit(X_train_L1, y_train_L1)\n",
        "\n",
        "# (model-c) using the training/testing data in case 2 with two most correlated input features\n",
        "reg_M2 = linear_model.LinearRegression()\n",
        "X_train_M2 = train_case2[['category_code','review_code']]\n",
        "y_train_M2 = train_case2['rating']\n",
        "X_test_M2 = test_case2[['category_code','review_code']]\n",
        "y_test_M2 = test_case2['rating']\n",
        "reg_M2.fit(X_train_M2, y_train_M2)\n",
        "\n",
        "# (model-d) using the training/testing data in case 2 with two least correlated input features\n",
        "reg_L2 = linear_model.LinearRegression()\n",
        "X_train_L2 = train_case2[['helpfulness','gender_code']]\n",
        "y_train_L2 = train_case2['rating']\n",
        "X_test_L2 = test_case2[['helpfulness','gender_code']]\n",
        "y_test_L2 = test_case2['rating']\n",
        "reg_L2.fit(X_train_L2, y_train_L2)"
      ]
    },
    {
      "cell_type": "markdown",
      "id": "KATSn7hYlA_Z",
      "metadata": {
        "id": "KATSn7hYlA_Z"
      },
      "source": [
        "### Evaluate Models\n",
        "* Evaluate the performance of the four models with two metrics, including MSE and Root MSE\n",
        "* Print the results of the four models regarding the two metrics"
      ]
    },
    {
      "cell_type": "code",
      "execution_count": 17,
      "id": "42a4ad0f",
      "metadata": {},
      "outputs": [],
      "source": [
        "from sklearn.metrics import mean_squared_error"
      ]
    },
    {
      "cell_type": "code",
      "execution_count": 18,
      "id": "8308d181",
      "metadata": {},
      "outputs": [
        {
          "name": "stdout",
          "output_type": "stream",
          "text": [
            "Case 1 with MOST related features MSE: 1.7690740179517055\n",
            "Case 1 with MOST related features RMSE: 1.3300654186737229\n",
            "\n",
            "\n",
            "Case 1 with LEAST related features MSE: 1.8412549895856636\n",
            "Case 1 with LEAST related features RMSE: 1.356928513071217\n",
            "\n",
            "\n",
            "Case 2 with MOST related features MSE: 1.7588975359805044\n",
            "Case 2 with MOST related features RMSE: 1.3262343442923292\n",
            "\n",
            "\n",
            "Case 2 with LEAST related features MSE: 1.8109460127732366\n",
            "Case 2 with LEAST related features RMSE: 1.3457139416581954\n"
          ]
        }
      ],
      "source": [
        "predicted_M1 = reg_M1.predict(X_test_M1)\n",
        "mse_M1 = mean_squared_error(y_test_M1, predicted_M1)\n",
        "rmse_M1 = np.sqrt(mse_M1)\n",
        "print(\"Case 1 with MOST related features MSE:\", mse_M1)\n",
        "print(\"Case 1 with MOST related features RMSE:\", rmse_M1)\n",
        "print('\\n')\n",
        "predicted_L1 = reg_L1.predict(X_test_L1)\n",
        "mse_L1 = mean_squared_error(y_test_L1, predicted_L1)\n",
        "rmse_L1 = np.sqrt(mse_L1)\n",
        "print(\"Case 1 with LEAST related features MSE:\", mse_L1)\n",
        "print(\"Case 1 with LEAST related features RMSE:\", rmse_L1)\n",
        "print('\\n')\n",
        "predicted_M2 = reg_M2.predict(X_test_M2)\n",
        "mse_M2 = mean_squared_error(y_test_M2, predicted_M2)\n",
        "rmse_M2 = np.sqrt(mse_M2)\n",
        "print(\"Case 2 with MOST related features MSE:\", mse_M2)\n",
        "print(\"Case 2 with MOST related features RMSE:\", rmse_M2)\n",
        "print('\\n')\n",
        "predicted_L2 = reg_L2.predict(X_test_L2)\n",
        "mse_L2 = mean_squared_error(y_test_L2, predicted_L2)\n",
        "rmse_L2 = np.sqrt(mse_L2)\n",
        "print(\"Case 2 with LEAST related features MSE:\", mse_L2)\n",
        "print(\"Case 2 with LEAST related features RMSE:\", rmse_L2)"
      ]
    },
    {
      "cell_type": "markdown",
      "id": "Y9jx-eY6lA_a",
      "metadata": {
        "id": "Y9jx-eY6lA_a"
      },
      "source": [
        "### Visualize, Compare and Analyze the Results\n",
        "* Visualize the results, and perform ___insightful analysis___ on the obtained results. For better visualization, you may need to carefully set the scale for the y-axis.\n",
        "* Normally, the model trained with most correlated features and more training data will get better results. Do you obtain the similar observations? If not, please ___explain the possible reasons___."
      ]
    },
    {
      "cell_type": "code",
      "execution_count": 19,
      "id": "dd443d8b",
      "metadata": {},
      "outputs": [],
      "source": [
        "import matplotlib.pyplot as plt\n",
        "%matplotlib inline\n",
        "import seaborn as sns"
      ]
    },
    {
      "cell_type": "code",
      "execution_count": 20,
      "id": "b4112f4b",
      "metadata": {},
      "outputs": [],
      "source": [
        "df_mse = pd.DataFrame({'mse':[mse_M1, mse_L1, mse_M2, mse_L2]}, index=['mse_M1','mse_L1','mse_M2','mse_L2'])"
      ]
    },
    {
      "cell_type": "code",
      "execution_count": 21,
      "metadata": {},
      "outputs": [],
      "source": [
        "df_rmse = pd.DataFrame({'rmse':[rmse_M1, rmse_L1, rmse_M2, rmse_L2]}, index=['rmse_M1','rmse_L1','rmse_M2','rmse_L2'])"
      ]
    },
    {
      "cell_type": "code",
      "execution_count": 22,
      "id": "3e6f266e",
      "metadata": {},
      "outputs": [
        {
          "data": {
            "text/html": [
              "<div>\n",
              "<style scoped>\n",
              "    .dataframe tbody tr th:only-of-type {\n",
              "        vertical-align: middle;\n",
              "    }\n",
              "\n",
              "    .dataframe tbody tr th {\n",
              "        vertical-align: top;\n",
              "    }\n",
              "\n",
              "    .dataframe thead th {\n",
              "        text-align: right;\n",
              "    }\n",
              "</style>\n",
              "<table border=\"1\" class=\"dataframe\">\n",
              "  <thead>\n",
              "    <tr style=\"text-align: right;\">\n",
              "      <th></th>\n",
              "      <th>mse</th>\n",
              "    </tr>\n",
              "  </thead>\n",
              "  <tbody>\n",
              "    <tr>\n",
              "      <th>mse_M1</th>\n",
              "      <td>1.769074</td>\n",
              "    </tr>\n",
              "    <tr>\n",
              "      <th>mse_L1</th>\n",
              "      <td>1.841255</td>\n",
              "    </tr>\n",
              "    <tr>\n",
              "      <th>mse_M2</th>\n",
              "      <td>1.758898</td>\n",
              "    </tr>\n",
              "    <tr>\n",
              "      <th>mse_L2</th>\n",
              "      <td>1.810946</td>\n",
              "    </tr>\n",
              "  </tbody>\n",
              "</table>\n",
              "</div>"
            ],
            "text/plain": [
              "             mse\n",
              "mse_M1  1.769074\n",
              "mse_L1  1.841255\n",
              "mse_M2  1.758898\n",
              "mse_L2  1.810946"
            ]
          },
          "execution_count": 22,
          "metadata": {},
          "output_type": "execute_result"
        }
      ],
      "source": [
        "df_mse"
      ]
    },
    {
      "cell_type": "code",
      "execution_count": 23,
      "id": "2bbdb21f",
      "metadata": {},
      "outputs": [
        {
          "data": {
            "text/html": [
              "<div>\n",
              "<style scoped>\n",
              "    .dataframe tbody tr th:only-of-type {\n",
              "        vertical-align: middle;\n",
              "    }\n",
              "\n",
              "    .dataframe tbody tr th {\n",
              "        vertical-align: top;\n",
              "    }\n",
              "\n",
              "    .dataframe thead th {\n",
              "        text-align: right;\n",
              "    }\n",
              "</style>\n",
              "<table border=\"1\" class=\"dataframe\">\n",
              "  <thead>\n",
              "    <tr style=\"text-align: right;\">\n",
              "      <th></th>\n",
              "      <th>rmse</th>\n",
              "    </tr>\n",
              "  </thead>\n",
              "  <tbody>\n",
              "    <tr>\n",
              "      <th>rmse_M1</th>\n",
              "      <td>1.330065</td>\n",
              "    </tr>\n",
              "    <tr>\n",
              "      <th>rmse_L1</th>\n",
              "      <td>1.356929</td>\n",
              "    </tr>\n",
              "    <tr>\n",
              "      <th>rmse_M2</th>\n",
              "      <td>1.326234</td>\n",
              "    </tr>\n",
              "    <tr>\n",
              "      <th>rmse_L2</th>\n",
              "      <td>1.345714</td>\n",
              "    </tr>\n",
              "  </tbody>\n",
              "</table>\n",
              "</div>"
            ],
            "text/plain": [
              "             rmse\n",
              "rmse_M1  1.330065\n",
              "rmse_L1  1.356929\n",
              "rmse_M2  1.326234\n",
              "rmse_L2  1.345714"
            ]
          },
          "execution_count": 23,
          "metadata": {},
          "output_type": "execute_result"
        }
      ],
      "source": [
        "df_rmse"
      ]
    },
    {
      "cell_type": "code",
      "execution_count": 24,
      "id": "88aae8c0",
      "metadata": {},
      "outputs": [
        {
          "data": {
            "text/plain": [
              "<BarContainer object of 4 artists>"
            ]
          },
          "execution_count": 24,
          "metadata": {},
          "output_type": "execute_result"
        },
        {
          "data": {
            "image/png": "[encoded data removed]",
            "text/plain": [
              "<Figure size 1600x800 with 2 Axes>"
            ]
          },
          "metadata": {},
          "output_type": "display_data"
        }
      ],
      "source": [
        "# Subplots\n",
        "plt.figure(figsize=(16,8))\n",
        "\n",
        "# Subplot 1: MSE\n",
        "plt.subplot(1,2,1)\n",
        "plt.xlabel(\"Difference among models for MSE\")\n",
        "plt.ylabel(\"MSE\")\n",
        "plt.ylim(1.6,1.9)\n",
        "plt.title(\"Compare MSE different models\")\n",
        "plt.bar(data=df_mse, x=['mse_M1','mse_L1','mse_M2','mse_L2'],height='mse', color='blue')\n",
        "\n",
        "#Subplot 2: RMSE\n",
        "plt.subplot(1,2,2)\n",
        "plt.xlabel(\"Difference among models for RMSE\")\n",
        "plt.ylabel(\"RMSE\")\n",
        "plt.ylim(1.2,1.4)\n",
        "plt.title(\"Compare RMSE different models\")\n",
        "plt.bar(data=df_rmse, x=['rmse_M1','rmse_L1','rmse_M2','rmse_L2'],height='rmse', color='indianred')"
      ]
    },
    {
      "cell_type": "markdown",
      "id": "4949bd39",
      "metadata": {},
      "source": [
        "#### Insightful analysis \n",
        "- mse_M1 > mse_M2 and mse_L1 > mse_L2: error of case 1 is larger than error of case 2, which proves that the more training data will get better results.\n",
        "- mse_M1 < mse_L1 and mse_M2 < mse_L2: error of 'M' is less than error of 'L', which proves that most correlated features will get better results.\n",
        "- Do you obtain similar observations? Yes, as mentioned above. But overall, the difference is quite small because all those 4 features have weak correlations with target column Rating as proved in the previous task."
      ]
    },
    {
      "cell_type": "markdown",
      "id": "8f7f35ea",
      "metadata": {},
      "source": []
    }
  ],
  "metadata": {
    "colab": {
      "provenance": []
    },
    "kernelspec": {
      "display_name": "Python 3",
      "language": "python",
      "name": "python3"
    },
    "language_info": {
      "codemirror_mode": {
        "name": "ipython",
        "version": 3
      },
      "file_extension": ".py",
      "mimetype": "text/x-python",
      "name": "python",
      "nbconvert_exporter": "python",
      "pygments_lexer": "ipython3",
      "version": "3.11.3"
    }
  },
  "nbformat": 4,
  "nbformat_minor": 5
}
